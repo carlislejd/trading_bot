{
 "cells": [
  {
   "cell_type": "code",
   "execution_count": null,
   "metadata": {},
   "outputs": [],
   "source": [
    "import gc\n",
    "import os\n",
    "import talib\n",
    "import pandas as pd\n",
    "import numpy as np\n",
    "import matplotlib.pyplot as plt\n",
    "from datetime import datetime\n",
    "\n",
    "import plotly as py\n",
    "import plotly.io as pio\n",
    "import plotly.graph_objects as go\n",
    "from plotly.subplots import make_subplots\n",
    "from plotly.offline import download_plotlyjs, init_notebook_mode, plot, iplot\n",
    "\n",
    "from os import getenv\n",
    "from dotenv import load_dotenv\n",
    "\n",
    "from strategy import long_short\n",
    "from config import binance_client, prices_collection\n",
    "from helper import vwap, check_decimals, current_position\n",
    "\n",
    "load_dotenv()\n",
    "\n",
    "client = binance_client()\n",
    "prices = prices_collection()"
   ]
  },
  {
   "cell_type": "code",
   "execution_count": null,
   "metadata": {},
   "outputs": [],
   "source": [
    "last_date = prices.find().sort('date', -1).limit(1).next()['date']\n",
    "print('Finding the last record in our DB')\n",
    "\n",
    "new_data_query = client.get_historical_klines('ETHUSDT', '5m', str(last_date), limit=100)\n",
    "print('Getting new data from Binance API (5m interval)')\n",
    "\n",
    "new_data = pd.DataFrame(new_data_query[:-1], columns=['Open time', 'open', 'high', 'low', 'close', 'vol', 'Close time', 'Quote asset volume', 'Number of trades', 'Taker buy base asset volume', 'Taker buy quote asset volume', 'Ignore'])\n",
    "new_data['date'] = pd.to_datetime(new_data['Close time'], unit='ms')\n",
    "cols_to_drop = ['Open time', 'Close time', 'Quote asset volume', 'Number of trades', 'Taker buy base asset volume', 'Taker buy quote asset volume', 'Ignore']\n",
    "new_data.drop(cols_to_drop, axis=1, inplace=True)\n",
    "\n",
    "cols = ['open', 'high', 'low', 'close', 'vol']\n",
    "new_data[cols] = new_data[cols].apply(pd.to_numeric, errors='ignore', axis=1)\n",
    "\n",
    "if len(new_data) > 0:\n",
    "    print('Inserting new data into DB')\n",
    "    prices_collection().insert_many(new_data.to_dict('records'))\n",
    "\n",
    "df = pd.DataFrame(list(prices.find().sort('date', -1).limit(300)))\n",
    "df.sort_values('date', inplace=True)\n",
    "\n",
    "df.set_index('date', inplace=True)\n",
    "close = df['close'].values\n",
    "df['rsi'] = talib.RSI(close, timeperiod=14)\n",
    "macd, macdsignal, df['macdhist'] = talib.MACD(close, fastperiod=12, slowperiod=26, signalperiod=9)\n",
    "df['EMA9'] = talib.EMA(df.close, 9)\n",
    "df['EMA55'] = talib.EMA(df.close, 55)\n",
    "df['EMA200'] = talib.EMA(df.close, 200)\n",
    "\n",
    "df['date'] = df.index\n",
    "df.reset_index(drop=True, inplace=True)\n",
    "df.fillna(method='ffill', inplace=True)\n",
    "\n",
    "print('Calculating signals')\n",
    "df['signal'] = df.apply(long_short, axis=1)\n",
    "\n",
    "symbol = 'ETHUSD'\n",
    "decimal = check_decimals(symbol)"
   ]
  },
  {
   "cell_type": "code",
   "execution_count": null,
   "metadata": {},
   "outputs": [],
   "source": [
    "df.tail(20)"
   ]
  },
  {
   "cell_type": "code",
   "execution_count": null,
   "metadata": {},
   "outputs": [],
   "source": [
    "signal = df['signal'].iloc[-1]\n",
    "position = current_position()\n",
    "\n",
    "if signal == position:\n",
    "    print('No change in position')\n",
    "    \n",
    "else:\n",
    "    with open('current_position.txt', 'w') as f:\n",
    "        f.write(signal)\n",
    "\n",
    "    if signal == 'BUY':\n",
    "        print(f'Signal went from: {position} to {signal}, flipping to long at {df[\"close\"].iloc[-1]}')\n",
    "        balance = client.get_asset_balance(asset='USD')\n",
    "        quantity = round((float(balance['free']) * .95), decimal)\n",
    "        order = client.create_order(symbol=symbol, side=signal, type='MARKET', quantity=quantity)\n",
    "        print(order)\n",
    "\n",
    "    if signal == 'SELL':\n",
    "        print(f'Signal went from: {position} to {signal}, flipping to short at {df[\"close\"].iloc[-1]}')\n",
    "        balance = client.get_asset_balance(asset='ETH')\n",
    "        quantity = round((float(balance['free']) * .95), decimal)\n",
    "        order = client.create_order(symbol=symbol, side=signal, type='MARKET', quantity=quantity)\n",
    "        print(order)\n",
    "\n",
    "    if signal == 'None':\n",
    "        print('No signal, holding position')\n",
    "        pass"
   ]
  },
  {
   "cell_type": "code",
   "execution_count": null,
   "metadata": {},
   "outputs": [],
   "source": [
    "df.to_csv('check.csv', index=False)"
   ]
  },
  {
   "cell_type": "code",
   "execution_count": null,
   "metadata": {},
   "outputs": [],
   "source": [
    "df.plot(y=['close', 'EMA20'], x='date', figsize=(20, 10))"
   ]
  }
 ],
 "metadata": {
  "kernelspec": {
   "display_name": "Python 3.10.0 64-bit",
   "language": "python",
   "name": "python3"
  },
  "language_info": {
   "codemirror_mode": {
    "name": "ipython",
    "version": 3
   },
   "file_extension": ".py",
   "mimetype": "text/x-python",
   "name": "python",
   "nbconvert_exporter": "python",
   "pygments_lexer": "ipython3",
   "version": "3.10.0"
  },
  "orig_nbformat": 4,
  "vscode": {
   "interpreter": {
    "hash": "e593ac106456af50ce7af38f9671c411b49d6cd90f9b885e167f0f594e09038c"
   }
  }
 },
 "nbformat": 4,
 "nbformat_minor": 2
}
